{
 "cells": [
  {
   "cell_type": "code",
   "execution_count": 1,
   "metadata": {
    "collapsed": true
   },
   "outputs": [],
   "source": [
    "import geopandas as gpd\n",
    "import mplleaflet\n",
    "import shapely\n",
    "import pandas as pd\n",
    "import numpy as np\n",
    "import seaborn as sns\n",
    "import pysal as ps\n",
    "from rasterstats import zonal_stats\n",
    "import rasterio\n",
    "import googlemaps\n",
    "import re\n"
   ]
  },
  {
   "cell_type": "code",
   "execution_count": 21,
   "metadata": {
    "collapsed": false
   },
   "outputs": [
    {
     "name": "stdout",
     "output_type": "stream",
     "text": [
      "Populating the interactive namespace from numpy and matplotlib\n"
     ]
    },
    {
     "name": "stderr",
     "output_type": "stream",
     "text": [
      "/Users/AnthonyAbercrombie/anaconda/lib/python3.5/site-packages/IPython/core/magics/pylab.py:161: UserWarning: pylab import has clobbered these variables: ['f']\n",
      "`%matplotlib` prevents importing * from pylab and numpy\n",
      "  \"\\n`%matplotlib` prevents importing * from pylab and numpy\"\n"
     ]
    }
   ],
   "source": [
    "%pylab inline"
   ]
  },
  {
   "cell_type": "code",
   "execution_count": 2,
   "metadata": {
    "collapsed": true
   },
   "outputs": [],
   "source": [
    "with open('../data/KoeppenGeiger.UScounty.txt','rt') as f:\n",
    "    climate_regions_raw = f.read()\n",
    "    f.close()"
   ]
  },
  {
   "cell_type": "code",
   "execution_count": 3,
   "metadata": {
    "collapsed": true
   },
   "outputs": [],
   "source": [
    "# climate_regions_raw[:100]\n",
    "rows = climate_regions_raw.split('\\n')\n",
    "climate_regions_table = [r.split('\\t') for r in rows]"
   ]
  },
  {
   "cell_type": "code",
   "execution_count": 4,
   "metadata": {
    "collapsed": true
   },
   "outputs": [],
   "source": [
    "# climate_regions_table[:10]\n",
    "columns = climate_regions_table[0]\n",
    "data = climate_regions_table[1:]\n",
    "\n",
    "climate_regions_df = pd.DataFrame(data, columns=columns)"
   ]
  },
  {
   "cell_type": "code",
   "execution_count": 5,
   "metadata": {
    "collapsed": false
   },
   "outputs": [
    {
     "data": {
      "text/html": [
       "<div>\n",
       "<table border=\"1\" class=\"dataframe\">\n",
       "  <thead>\n",
       "    <tr style=\"text-align: right;\">\n",
       "      <th></th>\n",
       "      <th>STATE</th>\n",
       "      <th>COUNTY</th>\n",
       "      <th>FIPS</th>\n",
       "      <th>CLS</th>\n",
       "      <th>PROP</th>\n",
       "    </tr>\n",
       "  </thead>\n",
       "  <tbody>\n",
       "    <tr>\n",
       "      <th>0</th>\n",
       "      <td>Alabama</td>\n",
       "      <td>Autauga</td>\n",
       "      <td>01001</td>\n",
       "      <td>Cfa</td>\n",
       "      <td>1.000</td>\n",
       "    </tr>\n",
       "    <tr>\n",
       "      <th>1</th>\n",
       "      <td>Alabama</td>\n",
       "      <td>Baldwin</td>\n",
       "      <td>01003</td>\n",
       "      <td>Cfa</td>\n",
       "      <td>1.000</td>\n",
       "    </tr>\n",
       "    <tr>\n",
       "      <th>2</th>\n",
       "      <td>Alabama</td>\n",
       "      <td>Barbour</td>\n",
       "      <td>01005</td>\n",
       "      <td>Cfa</td>\n",
       "      <td>1.000</td>\n",
       "    </tr>\n",
       "    <tr>\n",
       "      <th>3</th>\n",
       "      <td>Alabama</td>\n",
       "      <td>Bibb</td>\n",
       "      <td>01007</td>\n",
       "      <td>Cfa</td>\n",
       "      <td>1.000</td>\n",
       "    </tr>\n",
       "    <tr>\n",
       "      <th>4</th>\n",
       "      <td>Alabama</td>\n",
       "      <td>Blount</td>\n",
       "      <td>01009</td>\n",
       "      <td>Cfa</td>\n",
       "      <td>1.000</td>\n",
       "    </tr>\n",
       "  </tbody>\n",
       "</table>\n",
       "</div>"
      ],
      "text/plain": [
       "     STATE   COUNTY   FIPS  CLS   PROP\n",
       "0  Alabama  Autauga  01001  Cfa  1.000\n",
       "1  Alabama  Baldwin  01003  Cfa  1.000\n",
       "2  Alabama  Barbour  01005  Cfa  1.000\n",
       "3  Alabama     Bibb  01007  Cfa  1.000\n",
       "4  Alabama   Blount  01009  Cfa  1.000"
      ]
     },
     "execution_count": 5,
     "metadata": {},
     "output_type": "execute_result"
    }
   ],
   "source": [
    "climate_regions_df.head()"
   ]
  },
  {
   "cell_type": "code",
   "execution_count": 6,
   "metadata": {
    "collapsed": false
   },
   "outputs": [
    {
     "data": {
      "text/html": [
       "<div>\n",
       "<table border=\"1\" class=\"dataframe\">\n",
       "  <thead>\n",
       "    <tr style=\"text-align: right;\">\n",
       "      <th></th>\n",
       "      <th>NorthAm Climate Classes</th>\n",
       "      <th>Max daily SLF decrease</th>\n",
       "      <th>CLS</th>\n",
       "    </tr>\n",
       "  </thead>\n",
       "  <tbody>\n",
       "    <tr>\n",
       "      <th>0</th>\n",
       "      <td>BWk</td>\n",
       "      <td>0.06%</td>\n",
       "      <td>BWk</td>\n",
       "    </tr>\n",
       "    <tr>\n",
       "      <th>1</th>\n",
       "      <td>Cfa</td>\n",
       "      <td>0.08%</td>\n",
       "      <td>Cfa</td>\n",
       "    </tr>\n",
       "    <tr>\n",
       "      <th>2</th>\n",
       "      <td>NaN</td>\n",
       "      <td>0.08%</td>\n",
       "      <td>NaN</td>\n",
       "    </tr>\n",
       "    <tr>\n",
       "      <th>3</th>\n",
       "      <td>BSk</td>\n",
       "      <td>0.06%</td>\n",
       "      <td>BSk</td>\n",
       "    </tr>\n",
       "    <tr>\n",
       "      <th>4</th>\n",
       "      <td>Dfa</td>\n",
       "      <td>0.08%</td>\n",
       "      <td>Dfa</td>\n",
       "    </tr>\n",
       "  </tbody>\n",
       "</table>\n",
       "</div>"
      ],
      "text/plain": [
       "  NorthAm Climate Classes Max daily SLF decrease  CLS\n",
       "0                     BWk                  0.06%  BWk\n",
       "1                     Cfa                  0.08%  Cfa\n",
       "2                     NaN                  0.08%  NaN\n",
       "3                     BSk                  0.06%  BSk\n",
       "4                     Dfa                  0.08%  Dfa"
      ]
     },
     "execution_count": 6,
     "metadata": {},
     "output_type": "execute_result"
    }
   ],
   "source": [
    "climate_soiling = pd.read_csv('../data/climate_soiling.csv')\n",
    "climate_soiling['CLS'] = climate_soiling['NorthAm Climate Classes']\n",
    "climate_soiling.head()"
   ]
  },
  {
   "cell_type": "code",
   "execution_count": 7,
   "metadata": {
    "collapsed": true
   },
   "outputs": [],
   "source": [
    "climate_regions_soiling = pd.merge(climate_regions_df,climate_soiling,on='CLS',how='left')"
   ]
  },
  {
   "cell_type": "code",
   "execution_count": 10,
   "metadata": {
    "collapsed": false
   },
   "outputs": [
    {
     "data": {
      "text/html": [
       "<div>\n",
       "<table border=\"1\" class=\"dataframe\">\n",
       "  <thead>\n",
       "    <tr style=\"text-align: right;\">\n",
       "      <th></th>\n",
       "      <th>STATE</th>\n",
       "      <th>COUNTY</th>\n",
       "      <th>FIPS</th>\n",
       "      <th>CLS</th>\n",
       "      <th>PROP</th>\n",
       "      <th>NorthAm Climate Classes</th>\n",
       "      <th>Max daily SLF decrease</th>\n",
       "    </tr>\n",
       "  </thead>\n",
       "  <tbody>\n",
       "    <tr>\n",
       "      <th>0</th>\n",
       "      <td>Alabama</td>\n",
       "      <td>Autauga</td>\n",
       "      <td>01001</td>\n",
       "      <td>Cfa</td>\n",
       "      <td>1.000</td>\n",
       "      <td>Cfa</td>\n",
       "      <td>0.08%</td>\n",
       "    </tr>\n",
       "    <tr>\n",
       "      <th>1</th>\n",
       "      <td>Alabama</td>\n",
       "      <td>Baldwin</td>\n",
       "      <td>01003</td>\n",
       "      <td>Cfa</td>\n",
       "      <td>1.000</td>\n",
       "      <td>Cfa</td>\n",
       "      <td>0.08%</td>\n",
       "    </tr>\n",
       "    <tr>\n",
       "      <th>2</th>\n",
       "      <td>Alabama</td>\n",
       "      <td>Barbour</td>\n",
       "      <td>01005</td>\n",
       "      <td>Cfa</td>\n",
       "      <td>1.000</td>\n",
       "      <td>Cfa</td>\n",
       "      <td>0.08%</td>\n",
       "    </tr>\n",
       "    <tr>\n",
       "      <th>3</th>\n",
       "      <td>Alabama</td>\n",
       "      <td>Bibb</td>\n",
       "      <td>01007</td>\n",
       "      <td>Cfa</td>\n",
       "      <td>1.000</td>\n",
       "      <td>Cfa</td>\n",
       "      <td>0.08%</td>\n",
       "    </tr>\n",
       "    <tr>\n",
       "      <th>4</th>\n",
       "      <td>Alabama</td>\n",
       "      <td>Blount</td>\n",
       "      <td>01009</td>\n",
       "      <td>Cfa</td>\n",
       "      <td>1.000</td>\n",
       "      <td>Cfa</td>\n",
       "      <td>0.08%</td>\n",
       "    </tr>\n",
       "  </tbody>\n",
       "</table>\n",
       "</div>"
      ],
      "text/plain": [
       "     STATE   COUNTY   FIPS  CLS   PROP NorthAm Climate Classes  \\\n",
       "0  Alabama  Autauga  01001  Cfa  1.000                     Cfa   \n",
       "1  Alabama  Baldwin  01003  Cfa  1.000                     Cfa   \n",
       "2  Alabama  Barbour  01005  Cfa  1.000                     Cfa   \n",
       "3  Alabama     Bibb  01007  Cfa  1.000                     Cfa   \n",
       "4  Alabama   Blount  01009  Cfa  1.000                     Cfa   \n",
       "\n",
       "  Max daily SLF decrease  \n",
       "0                  0.08%  \n",
       "1                  0.08%  \n",
       "2                  0.08%  \n",
       "3                  0.08%  \n",
       "4                  0.08%  "
      ]
     },
     "execution_count": 10,
     "metadata": {},
     "output_type": "execute_result"
    }
   ],
   "source": [
    "climate_regions_soiling.head()"
   ]
  },
  {
   "cell_type": "markdown",
   "metadata": {},
   "source": [
    "# Counties"
   ]
  },
  {
   "cell_type": "code",
   "execution_count": 8,
   "metadata": {
    "collapsed": true
   },
   "outputs": [],
   "source": [
    "counties = gpd.read_file('../data/cb_2016_us_county_5m/cb_2016_us_county_5m.shp')"
   ]
  },
  {
   "cell_type": "code",
   "execution_count": 14,
   "metadata": {
    "collapsed": false
   },
   "outputs": [
    {
     "data": {
      "text/plain": [
       "(3233, 11)"
      ]
     },
     "execution_count": 14,
     "metadata": {},
     "output_type": "execute_result"
    }
   ],
   "source": [
    "counties.shape"
   ]
  },
  {
   "cell_type": "code",
   "execution_count": 11,
   "metadata": {
    "collapsed": false
   },
   "outputs": [
    {
     "data": {
      "text/html": [
       "<div>\n",
       "<table border=\"1\" class=\"dataframe\">\n",
       "  <thead>\n",
       "    <tr style=\"text-align: right;\">\n",
       "      <th></th>\n",
       "      <th>AFFGEOID</th>\n",
       "      <th>ALAND</th>\n",
       "      <th>AWATER</th>\n",
       "      <th>COUNTYFP</th>\n",
       "      <th>COUNTYNS</th>\n",
       "      <th>GEOID</th>\n",
       "      <th>LSAD</th>\n",
       "      <th>NAME</th>\n",
       "      <th>STATEFP</th>\n",
       "      <th>geometry</th>\n",
       "      <th>COUNTY</th>\n",
       "    </tr>\n",
       "  </thead>\n",
       "  <tbody>\n",
       "    <tr>\n",
       "      <th>0</th>\n",
       "      <td>0500000US04015</td>\n",
       "      <td>34475567011</td>\n",
       "      <td>387344307</td>\n",
       "      <td>015</td>\n",
       "      <td>00025445</td>\n",
       "      <td>04015</td>\n",
       "      <td>06</td>\n",
       "      <td>Mohave</td>\n",
       "      <td>04</td>\n",
       "      <td>POLYGON ((-114.755618 36.087166, -114.753638 3...</td>\n",
       "      <td>Mohave</td>\n",
       "    </tr>\n",
       "    <tr>\n",
       "      <th>1</th>\n",
       "      <td>0500000US12035</td>\n",
       "      <td>1257365642</td>\n",
       "      <td>221047161</td>\n",
       "      <td>035</td>\n",
       "      <td>00308547</td>\n",
       "      <td>12035</td>\n",
       "      <td>06</td>\n",
       "      <td>Flagler</td>\n",
       "      <td>12</td>\n",
       "      <td>POLYGON ((-81.52365999999999 29.622432, -81.32...</td>\n",
       "      <td>Flagler</td>\n",
       "    </tr>\n",
       "    <tr>\n",
       "      <th>2</th>\n",
       "      <td>0500000US20129</td>\n",
       "      <td>1889993251</td>\n",
       "      <td>507796</td>\n",
       "      <td>129</td>\n",
       "      <td>00485135</td>\n",
       "      <td>20129</td>\n",
       "      <td>06</td>\n",
       "      <td>Morton</td>\n",
       "      <td>20</td>\n",
       "      <td>POLYGON ((-102.041952 37.024742, -102.04195 37...</td>\n",
       "      <td>Morton</td>\n",
       "    </tr>\n",
       "    <tr>\n",
       "      <th>3</th>\n",
       "      <td>0500000US28093</td>\n",
       "      <td>1828989833</td>\n",
       "      <td>9195190</td>\n",
       "      <td>093</td>\n",
       "      <td>00695770</td>\n",
       "      <td>28093</td>\n",
       "      <td>06</td>\n",
       "      <td>Marshall</td>\n",
       "      <td>28</td>\n",
       "      <td>POLYGON ((-89.7243244282036 34.9952117286505, ...</td>\n",
       "      <td>Marshall</td>\n",
       "    </tr>\n",
       "    <tr>\n",
       "      <th>4</th>\n",
       "      <td>0500000US29510</td>\n",
       "      <td>160458044</td>\n",
       "      <td>10670040</td>\n",
       "      <td>510</td>\n",
       "      <td>00767557</td>\n",
       "      <td>29510</td>\n",
       "      <td>25</td>\n",
       "      <td>St. Louis</td>\n",
       "      <td>29</td>\n",
       "      <td>POLYGON ((-90.318212 38.600017, -90.301828 38....</td>\n",
       "      <td>St. Louis</td>\n",
       "    </tr>\n",
       "  </tbody>\n",
       "</table>\n",
       "</div>"
      ],
      "text/plain": [
       "         AFFGEOID        ALAND     AWATER COUNTYFP  COUNTYNS  GEOID LSAD  \\\n",
       "0  0500000US04015  34475567011  387344307      015  00025445  04015   06   \n",
       "1  0500000US12035   1257365642  221047161      035  00308547  12035   06   \n",
       "2  0500000US20129   1889993251     507796      129  00485135  20129   06   \n",
       "3  0500000US28093   1828989833    9195190      093  00695770  28093   06   \n",
       "4  0500000US29510    160458044   10670040      510  00767557  29510   25   \n",
       "\n",
       "        NAME STATEFP                                           geometry  \\\n",
       "0     Mohave      04  POLYGON ((-114.755618 36.087166, -114.753638 3...   \n",
       "1    Flagler      12  POLYGON ((-81.52365999999999 29.622432, -81.32...   \n",
       "2     Morton      20  POLYGON ((-102.041952 37.024742, -102.04195 37...   \n",
       "3   Marshall      28  POLYGON ((-89.7243244282036 34.9952117286505, ...   \n",
       "4  St. Louis      29  POLYGON ((-90.318212 38.600017, -90.301828 38....   \n",
       "\n",
       "      COUNTY  \n",
       "0     Mohave  \n",
       "1    Flagler  \n",
       "2     Morton  \n",
       "3   Marshall  \n",
       "4  St. Louis  "
      ]
     },
     "execution_count": 11,
     "metadata": {},
     "output_type": "execute_result"
    }
   ],
   "source": [
    "counties['COUNTY'] = counties['NAME']\n",
    "counties.head()"
   ]
  },
  {
   "cell_type": "code",
   "execution_count": 12,
   "metadata": {
    "collapsed": true
   },
   "outputs": [],
   "source": [
    "counties_regions_soiling = pd.merge(counties,climate_regions_soiling,on='COUNTY', how='left')"
   ]
  },
  {
   "cell_type": "code",
   "execution_count": 13,
   "metadata": {
    "collapsed": false
   },
   "outputs": [
    {
     "data": {
      "text/plain": [
       "(18242, 17)"
      ]
     },
     "execution_count": 13,
     "metadata": {},
     "output_type": "execute_result"
    }
   ],
   "source": [
    "counties_regions_soiling.shape"
   ]
  },
  {
   "cell_type": "code",
   "execution_count": 16,
   "metadata": {
    "collapsed": false
   },
   "outputs": [
    {
     "data": {
      "text/html": [
       "<div>\n",
       "<table border=\"1\" class=\"dataframe\">\n",
       "  <thead>\n",
       "    <tr style=\"text-align: right;\">\n",
       "      <th></th>\n",
       "      <th>AFFGEOID</th>\n",
       "      <th>ALAND</th>\n",
       "      <th>AWATER</th>\n",
       "      <th>COUNTYFP</th>\n",
       "      <th>COUNTYNS</th>\n",
       "      <th>GEOID</th>\n",
       "      <th>LSAD</th>\n",
       "      <th>NAME</th>\n",
       "      <th>STATEFP</th>\n",
       "      <th>geometry</th>\n",
       "      <th>COUNTY</th>\n",
       "      <th>STATE</th>\n",
       "      <th>FIPS</th>\n",
       "      <th>CLS</th>\n",
       "      <th>PROP</th>\n",
       "      <th>NorthAm Climate Classes</th>\n",
       "      <th>Max daily SLF decrease</th>\n",
       "    </tr>\n",
       "  </thead>\n",
       "  <tbody>\n",
       "    <tr>\n",
       "      <th>18237</th>\n",
       "      <td>0500000US48495</td>\n",
       "      <td>2178481652</td>\n",
       "      <td>414369</td>\n",
       "      <td>495</td>\n",
       "      <td>01384033</td>\n",
       "      <td>48495</td>\n",
       "      <td>06</td>\n",
       "      <td>Winkler</td>\n",
       "      <td>48</td>\n",
       "      <td>POLYGON ((-103.326501 32.00037, -103.278521 32...</td>\n",
       "      <td>Winkler</td>\n",
       "      <td>Texas</td>\n",
       "      <td>48495</td>\n",
       "      <td>BSk</td>\n",
       "      <td>0.115</td>\n",
       "      <td>BSk</td>\n",
       "      <td>0.06%</td>\n",
       "    </tr>\n",
       "    <tr>\n",
       "      <th>18238</th>\n",
       "      <td>0500000US48495</td>\n",
       "      <td>2178481652</td>\n",
       "      <td>414369</td>\n",
       "      <td>495</td>\n",
       "      <td>01384033</td>\n",
       "      <td>48495</td>\n",
       "      <td>06</td>\n",
       "      <td>Winkler</td>\n",
       "      <td>48</td>\n",
       "      <td>POLYGON ((-103.326501 32.00037, -103.278521 32...</td>\n",
       "      <td>Winkler</td>\n",
       "      <td>Texas</td>\n",
       "      <td>48495</td>\n",
       "      <td>BWh</td>\n",
       "      <td>0.885</td>\n",
       "      <td>BWh</td>\n",
       "      <td>0.06%</td>\n",
       "    </tr>\n",
       "    <tr>\n",
       "      <th>18239</th>\n",
       "      <td>0500000US08109</td>\n",
       "      <td>8206547711</td>\n",
       "      <td>4454510</td>\n",
       "      <td>109</td>\n",
       "      <td>00198170</td>\n",
       "      <td>08109</td>\n",
       "      <td>06</td>\n",
       "      <td>Saguache</td>\n",
       "      <td>08</td>\n",
       "      <td>POLYGON ((-107.001119 38.147072, -107.000601 3...</td>\n",
       "      <td>Saguache</td>\n",
       "      <td>Colorado</td>\n",
       "      <td>08109</td>\n",
       "      <td>Dfc</td>\n",
       "      <td>0.569</td>\n",
       "      <td>Dfc</td>\n",
       "      <td>0.10%</td>\n",
       "    </tr>\n",
       "    <tr>\n",
       "      <th>18240</th>\n",
       "      <td>0500000US08109</td>\n",
       "      <td>8206547711</td>\n",
       "      <td>4454510</td>\n",
       "      <td>109</td>\n",
       "      <td>00198170</td>\n",
       "      <td>08109</td>\n",
       "      <td>06</td>\n",
       "      <td>Saguache</td>\n",
       "      <td>08</td>\n",
       "      <td>POLYGON ((-107.001119 38.147072, -107.000601 3...</td>\n",
       "      <td>Saguache</td>\n",
       "      <td>Colorado</td>\n",
       "      <td>08109</td>\n",
       "      <td>BSk</td>\n",
       "      <td>0.269</td>\n",
       "      <td>BSk</td>\n",
       "      <td>0.06%</td>\n",
       "    </tr>\n",
       "    <tr>\n",
       "      <th>18241</th>\n",
       "      <td>0500000US08109</td>\n",
       "      <td>8206547711</td>\n",
       "      <td>4454510</td>\n",
       "      <td>109</td>\n",
       "      <td>00198170</td>\n",
       "      <td>08109</td>\n",
       "      <td>06</td>\n",
       "      <td>Saguache</td>\n",
       "      <td>08</td>\n",
       "      <td>POLYGON ((-107.001119 38.147072, -107.000601 3...</td>\n",
       "      <td>Saguache</td>\n",
       "      <td>Colorado</td>\n",
       "      <td>08109</td>\n",
       "      <td>Dfb</td>\n",
       "      <td>0.162</td>\n",
       "      <td>Dfb</td>\n",
       "      <td>0.10%</td>\n",
       "    </tr>\n",
       "  </tbody>\n",
       "</table>\n",
       "</div>"
      ],
      "text/plain": [
       "             AFFGEOID       ALAND   AWATER COUNTYFP  COUNTYNS  GEOID LSAD  \\\n",
       "18237  0500000US48495  2178481652   414369      495  01384033  48495   06   \n",
       "18238  0500000US48495  2178481652   414369      495  01384033  48495   06   \n",
       "18239  0500000US08109  8206547711  4454510      109  00198170  08109   06   \n",
       "18240  0500000US08109  8206547711  4454510      109  00198170  08109   06   \n",
       "18241  0500000US08109  8206547711  4454510      109  00198170  08109   06   \n",
       "\n",
       "           NAME STATEFP                                           geometry  \\\n",
       "18237   Winkler      48  POLYGON ((-103.326501 32.00037, -103.278521 32...   \n",
       "18238   Winkler      48  POLYGON ((-103.326501 32.00037, -103.278521 32...   \n",
       "18239  Saguache      08  POLYGON ((-107.001119 38.147072, -107.000601 3...   \n",
       "18240  Saguache      08  POLYGON ((-107.001119 38.147072, -107.000601 3...   \n",
       "18241  Saguache      08  POLYGON ((-107.001119 38.147072, -107.000601 3...   \n",
       "\n",
       "         COUNTY     STATE   FIPS  CLS   PROP NorthAm Climate Classes  \\\n",
       "18237   Winkler     Texas  48495  BSk  0.115                     BSk   \n",
       "18238   Winkler     Texas  48495  BWh  0.885                     BWh   \n",
       "18239  Saguache  Colorado  08109  Dfc  0.569                     Dfc   \n",
       "18240  Saguache  Colorado  08109  BSk  0.269                     BSk   \n",
       "18241  Saguache  Colorado  08109  Dfb  0.162                     Dfb   \n",
       "\n",
       "      Max daily SLF decrease  \n",
       "18237                  0.06%  \n",
       "18238                  0.06%  \n",
       "18239                  0.10%  \n",
       "18240                  0.06%  \n",
       "18241                  0.10%  "
      ]
     },
     "execution_count": 16,
     "metadata": {},
     "output_type": "execute_result"
    }
   ],
   "source": [
    "counties_regions_soiling.tail()"
   ]
  },
  {
   "cell_type": "code",
   "execution_count": 24,
   "metadata": {
    "collapsed": true
   },
   "outputs": [],
   "source": [
    "counties_regions_soiling_no_dupl = counties_regions_soiling.drop_duplicates('GEOID')"
   ]
  },
  {
   "cell_type": "code",
   "execution_count": 25,
   "metadata": {
    "collapsed": false
   },
   "outputs": [
    {
     "data": {
      "text/plain": [
       "(3233, 17)"
      ]
     },
     "execution_count": 25,
     "metadata": {},
     "output_type": "execute_result"
    }
   ],
   "source": [
    "counties_regions_soiling_no_dupl.shape"
   ]
  },
  {
   "cell_type": "code",
   "execution_count": 26,
   "metadata": {
    "collapsed": false
   },
   "outputs": [
    {
     "data": {
      "text/html": [
       "<div>\n",
       "<table border=\"1\" class=\"dataframe\">\n",
       "  <thead>\n",
       "    <tr style=\"text-align: right;\">\n",
       "      <th></th>\n",
       "      <th>AFFGEOID</th>\n",
       "      <th>ALAND</th>\n",
       "      <th>AWATER</th>\n",
       "      <th>COUNTYFP</th>\n",
       "      <th>COUNTYNS</th>\n",
       "      <th>GEOID</th>\n",
       "      <th>LSAD</th>\n",
       "      <th>NAME</th>\n",
       "      <th>STATEFP</th>\n",
       "      <th>geometry</th>\n",
       "      <th>COUNTY</th>\n",
       "      <th>STATE</th>\n",
       "      <th>FIPS</th>\n",
       "      <th>CLS</th>\n",
       "      <th>PROP</th>\n",
       "      <th>NorthAm Climate Classes</th>\n",
       "      <th>Max daily SLF decrease</th>\n",
       "    </tr>\n",
       "  </thead>\n",
       "  <tbody>\n",
       "    <tr>\n",
       "      <th>0</th>\n",
       "      <td>0500000US04015</td>\n",
       "      <td>34475567011</td>\n",
       "      <td>387344307</td>\n",
       "      <td>015</td>\n",
       "      <td>00025445</td>\n",
       "      <td>04015</td>\n",
       "      <td>06</td>\n",
       "      <td>Mohave</td>\n",
       "      <td>04</td>\n",
       "      <td>POLYGON ((-114.755618 36.087166, -114.753638 3...</td>\n",
       "      <td>Mohave</td>\n",
       "      <td>Arizona</td>\n",
       "      <td>04015</td>\n",
       "      <td>BWk</td>\n",
       "      <td>0.182</td>\n",
       "      <td>BWk</td>\n",
       "      <td>0.06%</td>\n",
       "    </tr>\n",
       "    <tr>\n",
       "      <th>4</th>\n",
       "      <td>0500000US12035</td>\n",
       "      <td>1257365642</td>\n",
       "      <td>221047161</td>\n",
       "      <td>035</td>\n",
       "      <td>00308547</td>\n",
       "      <td>12035</td>\n",
       "      <td>06</td>\n",
       "      <td>Flagler</td>\n",
       "      <td>12</td>\n",
       "      <td>POLYGON ((-81.52365999999999 29.622432, -81.32...</td>\n",
       "      <td>Flagler</td>\n",
       "      <td>Florida</td>\n",
       "      <td>12035</td>\n",
       "      <td>Cfa</td>\n",
       "      <td>1.000</td>\n",
       "      <td>Cfa</td>\n",
       "      <td>0.08%</td>\n",
       "    </tr>\n",
       "    <tr>\n",
       "      <th>5</th>\n",
       "      <td>0500000US20129</td>\n",
       "      <td>1889993251</td>\n",
       "      <td>507796</td>\n",
       "      <td>129</td>\n",
       "      <td>00485135</td>\n",
       "      <td>20129</td>\n",
       "      <td>06</td>\n",
       "      <td>Morton</td>\n",
       "      <td>20</td>\n",
       "      <td>POLYGON ((-102.041952 37.024742, -102.04195 37...</td>\n",
       "      <td>Morton</td>\n",
       "      <td>Kansas</td>\n",
       "      <td>20129</td>\n",
       "      <td>BSk</td>\n",
       "      <td>1.000</td>\n",
       "      <td>BSk</td>\n",
       "      <td>0.06%</td>\n",
       "    </tr>\n",
       "    <tr>\n",
       "      <th>7</th>\n",
       "      <td>0500000US28093</td>\n",
       "      <td>1828989833</td>\n",
       "      <td>9195190</td>\n",
       "      <td>093</td>\n",
       "      <td>00695770</td>\n",
       "      <td>28093</td>\n",
       "      <td>06</td>\n",
       "      <td>Marshall</td>\n",
       "      <td>28</td>\n",
       "      <td>POLYGON ((-89.7243244282036 34.9952117286505, ...</td>\n",
       "      <td>Marshall</td>\n",
       "      <td>Alabama</td>\n",
       "      <td>01095</td>\n",
       "      <td>Cfa</td>\n",
       "      <td>1.000</td>\n",
       "      <td>Cfa</td>\n",
       "      <td>0.08%</td>\n",
       "    </tr>\n",
       "    <tr>\n",
       "      <th>19</th>\n",
       "      <td>0500000US29510</td>\n",
       "      <td>160458044</td>\n",
       "      <td>10670040</td>\n",
       "      <td>510</td>\n",
       "      <td>00767557</td>\n",
       "      <td>29510</td>\n",
       "      <td>25</td>\n",
       "      <td>St. Louis</td>\n",
       "      <td>29</td>\n",
       "      <td>POLYGON ((-90.318212 38.600017, -90.301828 38....</td>\n",
       "      <td>St. Louis</td>\n",
       "      <td>NaN</td>\n",
       "      <td>NaN</td>\n",
       "      <td>NaN</td>\n",
       "      <td>NaN</td>\n",
       "      <td>NaN</td>\n",
       "      <td>NaN</td>\n",
       "    </tr>\n",
       "  </tbody>\n",
       "</table>\n",
       "</div>"
      ],
      "text/plain": [
       "          AFFGEOID        ALAND     AWATER COUNTYFP  COUNTYNS  GEOID LSAD  \\\n",
       "0   0500000US04015  34475567011  387344307      015  00025445  04015   06   \n",
       "4   0500000US12035   1257365642  221047161      035  00308547  12035   06   \n",
       "5   0500000US20129   1889993251     507796      129  00485135  20129   06   \n",
       "7   0500000US28093   1828989833    9195190      093  00695770  28093   06   \n",
       "19  0500000US29510    160458044   10670040      510  00767557  29510   25   \n",
       "\n",
       "         NAME STATEFP                                           geometry  \\\n",
       "0      Mohave      04  POLYGON ((-114.755618 36.087166, -114.753638 3...   \n",
       "4     Flagler      12  POLYGON ((-81.52365999999999 29.622432, -81.32...   \n",
       "5      Morton      20  POLYGON ((-102.041952 37.024742, -102.04195 37...   \n",
       "7    Marshall      28  POLYGON ((-89.7243244282036 34.9952117286505, ...   \n",
       "19  St. Louis      29  POLYGON ((-90.318212 38.600017, -90.301828 38....   \n",
       "\n",
       "       COUNTY    STATE   FIPS  CLS   PROP NorthAm Climate Classes  \\\n",
       "0      Mohave  Arizona  04015  BWk  0.182                     BWk   \n",
       "4     Flagler  Florida  12035  Cfa  1.000                     Cfa   \n",
       "5      Morton   Kansas  20129  BSk  1.000                     BSk   \n",
       "7    Marshall  Alabama  01095  Cfa  1.000                     Cfa   \n",
       "19  St. Louis      NaN    NaN  NaN    NaN                     NaN   \n",
       "\n",
       "   Max daily SLF decrease  \n",
       "0                   0.06%  \n",
       "4                   0.08%  \n",
       "5                   0.06%  \n",
       "7                   0.08%  \n",
       "19                    NaN  "
      ]
     },
     "execution_count": 26,
     "metadata": {},
     "output_type": "execute_result"
    }
   ],
   "source": [
    "counties_regions_soiling_no_dupl.head()"
   ]
  },
  {
   "cell_type": "code",
   "execution_count": 35,
   "metadata": {
    "collapsed": true
   },
   "outputs": [],
   "source": [
    "def pct_to_number(row):\n",
    "    slf_str = str(row)\n",
    "    slf_fl = float(slf_str.strip('%'))\n",
    "    return slf_fl"
   ]
  },
  {
   "cell_type": "code",
   "execution_count": 36,
   "metadata": {
    "collapsed": false
   },
   "outputs": [
    {
     "name": "stderr",
     "output_type": "stream",
     "text": [
      "/Users/AnthonyAbercrombie/anaconda/lib/python3.5/site-packages/ipykernel/__main__.py:1: SettingWithCopyWarning: \n",
      "A value is trying to be set on a copy of a slice from a DataFrame.\n",
      "Try using .loc[row_indexer,col_indexer] = value instead\n",
      "\n",
      "See the caveats in the documentation: http://pandas.pydata.org/pandas-docs/stable/indexing.html#indexing-view-versus-copy\n",
      "  if __name__ == '__main__':\n"
     ]
    }
   ],
   "source": [
    "counties_regions_soiling_no_dupl['MAX_DAILY_SLF_DECREASE'] = counties_regions_soiling['Max daily SLF decrease'].apply(lambda x: pct_to_number(x))"
   ]
  },
  {
   "cell_type": "code",
   "execution_count": 38,
   "metadata": {
    "collapsed": false
   },
   "outputs": [
    {
     "data": {
      "text/html": [
       "<div>\n",
       "<table border=\"1\" class=\"dataframe\">\n",
       "  <thead>\n",
       "    <tr style=\"text-align: right;\">\n",
       "      <th></th>\n",
       "      <th>AFFGEOID</th>\n",
       "      <th>ALAND</th>\n",
       "      <th>AWATER</th>\n",
       "      <th>COUNTYFP</th>\n",
       "      <th>COUNTYNS</th>\n",
       "      <th>GEOID</th>\n",
       "      <th>LSAD</th>\n",
       "      <th>NAME</th>\n",
       "      <th>STATEFP</th>\n",
       "      <th>geometry</th>\n",
       "      <th>COUNTY</th>\n",
       "      <th>STATE</th>\n",
       "      <th>FIPS</th>\n",
       "      <th>CLS</th>\n",
       "      <th>PROP</th>\n",
       "      <th>NorthAm Climate Classes</th>\n",
       "      <th>Max daily SLF decrease</th>\n",
       "      <th>MAX_DAILY_SLF_DECREASE</th>\n",
       "    </tr>\n",
       "  </thead>\n",
       "  <tbody>\n",
       "    <tr>\n",
       "      <th>0</th>\n",
       "      <td>0500000US04015</td>\n",
       "      <td>34475567011</td>\n",
       "      <td>387344307</td>\n",
       "      <td>015</td>\n",
       "      <td>00025445</td>\n",
       "      <td>04015</td>\n",
       "      <td>06</td>\n",
       "      <td>Mohave</td>\n",
       "      <td>04</td>\n",
       "      <td>POLYGON ((-114.755618 36.087166, -114.753638 3...</td>\n",
       "      <td>Mohave</td>\n",
       "      <td>Arizona</td>\n",
       "      <td>04015</td>\n",
       "      <td>BWk</td>\n",
       "      <td>0.182</td>\n",
       "      <td>BWk</td>\n",
       "      <td>0.06%</td>\n",
       "      <td>0.06</td>\n",
       "    </tr>\n",
       "    <tr>\n",
       "      <th>4</th>\n",
       "      <td>0500000US12035</td>\n",
       "      <td>1257365642</td>\n",
       "      <td>221047161</td>\n",
       "      <td>035</td>\n",
       "      <td>00308547</td>\n",
       "      <td>12035</td>\n",
       "      <td>06</td>\n",
       "      <td>Flagler</td>\n",
       "      <td>12</td>\n",
       "      <td>POLYGON ((-81.52365999999999 29.622432, -81.32...</td>\n",
       "      <td>Flagler</td>\n",
       "      <td>Florida</td>\n",
       "      <td>12035</td>\n",
       "      <td>Cfa</td>\n",
       "      <td>1.000</td>\n",
       "      <td>Cfa</td>\n",
       "      <td>0.08%</td>\n",
       "      <td>0.08</td>\n",
       "    </tr>\n",
       "    <tr>\n",
       "      <th>5</th>\n",
       "      <td>0500000US20129</td>\n",
       "      <td>1889993251</td>\n",
       "      <td>507796</td>\n",
       "      <td>129</td>\n",
       "      <td>00485135</td>\n",
       "      <td>20129</td>\n",
       "      <td>06</td>\n",
       "      <td>Morton</td>\n",
       "      <td>20</td>\n",
       "      <td>POLYGON ((-102.041952 37.024742, -102.04195 37...</td>\n",
       "      <td>Morton</td>\n",
       "      <td>Kansas</td>\n",
       "      <td>20129</td>\n",
       "      <td>BSk</td>\n",
       "      <td>1.000</td>\n",
       "      <td>BSk</td>\n",
       "      <td>0.06%</td>\n",
       "      <td>0.06</td>\n",
       "    </tr>\n",
       "    <tr>\n",
       "      <th>7</th>\n",
       "      <td>0500000US28093</td>\n",
       "      <td>1828989833</td>\n",
       "      <td>9195190</td>\n",
       "      <td>093</td>\n",
       "      <td>00695770</td>\n",
       "      <td>28093</td>\n",
       "      <td>06</td>\n",
       "      <td>Marshall</td>\n",
       "      <td>28</td>\n",
       "      <td>POLYGON ((-89.7243244282036 34.9952117286505, ...</td>\n",
       "      <td>Marshall</td>\n",
       "      <td>Alabama</td>\n",
       "      <td>01095</td>\n",
       "      <td>Cfa</td>\n",
       "      <td>1.000</td>\n",
       "      <td>Cfa</td>\n",
       "      <td>0.08%</td>\n",
       "      <td>0.08</td>\n",
       "    </tr>\n",
       "    <tr>\n",
       "      <th>19</th>\n",
       "      <td>0500000US29510</td>\n",
       "      <td>160458044</td>\n",
       "      <td>10670040</td>\n",
       "      <td>510</td>\n",
       "      <td>00767557</td>\n",
       "      <td>29510</td>\n",
       "      <td>25</td>\n",
       "      <td>St. Louis</td>\n",
       "      <td>29</td>\n",
       "      <td>POLYGON ((-90.318212 38.600017, -90.301828 38....</td>\n",
       "      <td>St. Louis</td>\n",
       "      <td>NaN</td>\n",
       "      <td>NaN</td>\n",
       "      <td>NaN</td>\n",
       "      <td>NaN</td>\n",
       "      <td>NaN</td>\n",
       "      <td>NaN</td>\n",
       "      <td>NaN</td>\n",
       "    </tr>\n",
       "  </tbody>\n",
       "</table>\n",
       "</div>"
      ],
      "text/plain": [
       "          AFFGEOID        ALAND     AWATER COUNTYFP  COUNTYNS  GEOID LSAD  \\\n",
       "0   0500000US04015  34475567011  387344307      015  00025445  04015   06   \n",
       "4   0500000US12035   1257365642  221047161      035  00308547  12035   06   \n",
       "5   0500000US20129   1889993251     507796      129  00485135  20129   06   \n",
       "7   0500000US28093   1828989833    9195190      093  00695770  28093   06   \n",
       "19  0500000US29510    160458044   10670040      510  00767557  29510   25   \n",
       "\n",
       "         NAME STATEFP                                           geometry  \\\n",
       "0      Mohave      04  POLYGON ((-114.755618 36.087166, -114.753638 3...   \n",
       "4     Flagler      12  POLYGON ((-81.52365999999999 29.622432, -81.32...   \n",
       "5      Morton      20  POLYGON ((-102.041952 37.024742, -102.04195 37...   \n",
       "7    Marshall      28  POLYGON ((-89.7243244282036 34.9952117286505, ...   \n",
       "19  St. Louis      29  POLYGON ((-90.318212 38.600017, -90.301828 38....   \n",
       "\n",
       "       COUNTY    STATE   FIPS  CLS   PROP NorthAm Climate Classes  \\\n",
       "0      Mohave  Arizona  04015  BWk  0.182                     BWk   \n",
       "4     Flagler  Florida  12035  Cfa  1.000                     Cfa   \n",
       "5      Morton   Kansas  20129  BSk  1.000                     BSk   \n",
       "7    Marshall  Alabama  01095  Cfa  1.000                     Cfa   \n",
       "19  St. Louis      NaN    NaN  NaN    NaN                     NaN   \n",
       "\n",
       "   Max daily SLF decrease  MAX_DAILY_SLF_DECREASE  \n",
       "0                   0.06%                    0.06  \n",
       "4                   0.08%                    0.08  \n",
       "5                   0.06%                    0.06  \n",
       "7                   0.08%                    0.08  \n",
       "19                    NaN                     NaN  "
      ]
     },
     "execution_count": 38,
     "metadata": {},
     "output_type": "execute_result"
    }
   ],
   "source": [
    "counties_regions_soiling_no_dupl.head()"
   ]
  },
  {
   "cell_type": "code",
   "execution_count": 27,
   "metadata": {
    "collapsed": false,
    "scrolled": false
   },
   "outputs": [
    {
     "data": {
      "text/plain": [
       "<matplotlib.axes._subplots.AxesSubplot at 0x12e846668>"
      ]
     },
     "execution_count": 27,
     "metadata": {},
     "output_type": "execute_result"
    },
    {
     "data": {
      "image/png": "[encoded data removed]",
      "text/plain": [
       "<matplotlib.figure.Figure at 0x123f93080>"
      ]
     },
     "metadata": {},
     "output_type": "display_data"
    }
   ],
   "source": [
    "counties_regions_soiling_no_dupl.plot()"
   ]
  },
  {
   "cell_type": "code",
   "execution_count": 39,
   "metadata": {
    "collapsed": true
   },
   "outputs": [],
   "source": [
    "with open('counties_regions_soiling.geojson', 'wt') as f:\n",
    "    f.write(counties_regions_soiling_no_dupl.to_json())\n",
    "    f.close()\n"
   ]
  },
  {
   "cell_type": "code",
   "execution_count": 29,
   "metadata": {
    "collapsed": false
   },
   "outputs": [
    {
     "name": "stdout",
     "output_type": "stream",
     "text": [
      "counties_pv.geojson                zipcode_climate_county.geojson\r\n",
      "counties_regions_soiling.geojson   zipcode_climate_county_pt1.geojson\r\n",
      "county_pv.p                        zipcode_climate_county_pt2.geojson\r\n",
      "geospatial_analysis.ipynb          zipcode_climate_county_pt3.geojson\r\n",
      "soiling_climate_regions.ipynb      zipcode_climate_county_pt4.geojson\r\n",
      "zip_pv.geojson                     zipcode_climate_county_pt5.geojson\r\n",
      "zip_pv.p                           \u001b[31mzipcode_pv.geojson\u001b[m\u001b[m\r\n",
      "zipcode_climate_county.gejson\r\n"
     ]
    }
   ],
   "source": [
    "!ls"
   ]
  },
  {
   "cell_type": "code",
   "execution_count": null,
   "metadata": {
    "collapsed": true
   },
   "outputs": [],
   "source": []
  }
 ],
 "metadata": {
  "kernelspec": {
   "display_name": "Python 3",
   "language": "python",
   "name": "python3"
  },
  "language_info": {
   "codemirror_mode": {
    "name": "ipython",
    "version": 3
   },
   "file_extension": ".py",
   "mimetype": "text/x-python",
   "name": "python",
   "nbconvert_exporter": "python",
   "pygments_lexer": "ipython3",
   "version": "3.5.2"
  }
 },
 "nbformat": 4,
 "nbformat_minor": 0
}
